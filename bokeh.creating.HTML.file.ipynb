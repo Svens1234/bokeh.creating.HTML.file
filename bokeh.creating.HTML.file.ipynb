{
 "cells": [
  {
   "cell_type": "code",
   "execution_count": 4,
   "id": "c60548cb",
   "metadata": {},
   "outputs": [],
   "source": [
    "from bokeh.plotting import figure, output_file, save, show"
   ]
  },
  {
   "cell_type": "code",
   "execution_count": 2,
   "id": "c2676ec9",
   "metadata": {},
   "outputs": [],
   "source": [
    "x = [1, 2, 3, 4, 5]\n",
    "y = [4, 5, 5, 7, 2]"
   ]
  },
  {
   "cell_type": "code",
   "execution_count": 3,
   "id": "e680ebf6",
   "metadata": {},
   "outputs": [],
   "source": [
    "output_file(filename=\"custom_filename.html\", title=\"Static HTML file\")"
   ]
  },
  {
   "cell_type": "code",
   "execution_count": 5,
   "id": "027a9218",
   "metadata": {},
   "outputs": [],
   "source": [
    "p = figure(sizing_mode=\"stretch_width\", max_width=500, height=250)"
   ]
  },
  {
   "cell_type": "code",
   "execution_count": 6,
   "id": "c4037d3e",
   "metadata": {},
   "outputs": [],
   "source": [
    "circle = p.circle(x, y, fill_color=\"red\", size=15)"
   ]
  },
  {
   "cell_type": "code",
   "execution_count": 7,
   "id": "bd870bfb",
   "metadata": {},
   "outputs": [],
   "source": [
    "#show(p)"
   ]
  },
  {
   "cell_type": "code",
   "execution_count": 8,
   "id": "31c04f5d",
   "metadata": {},
   "outputs": [
    {
     "data": {
      "text/plain": [
       "'C:\\\\Users\\\\German\\\\custom_filename.html'"
      ]
     },
     "execution_count": 8,
     "metadata": {},
     "output_type": "execute_result"
    }
   ],
   "source": [
    "save(p)"
   ]
  },
  {
   "cell_type": "code",
   "execution_count": null,
   "id": "dc755260",
   "metadata": {},
   "outputs": [],
   "source": []
  }
 ],
 "metadata": {
  "kernelspec": {
   "display_name": "Python 3 (ipykernel)",
   "language": "python",
   "name": "python3"
  },
  "language_info": {
   "codemirror_mode": {
    "name": "ipython",
    "version": 3
   },
   "file_extension": ".py",
   "mimetype": "text/x-python",
   "name": "python",
   "nbconvert_exporter": "python",
   "pygments_lexer": "ipython3",
   "version": "3.8.7"
  }
 },
 "nbformat": 4,
 "nbformat_minor": 5
}
